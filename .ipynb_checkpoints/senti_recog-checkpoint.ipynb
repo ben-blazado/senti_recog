{
 "cells": [
  {
   "cell_type": "code",
   "execution_count": 1,
   "metadata": {},
   "outputs": [
    {
     "name": "stdout",
     "output_type": "stream",
     "text": [
      "curses is not supported on this machine (please install/reinstall curses for an optimal experience)\n",
      "Scipy not supported!\n"
     ]
    }
   ],
   "source": [
    "from movie_review_datasets import MovieReviewDatasets \n",
    "\n",
    "mrd = MovieReviewDatasets()\n"
   ]
  },
  {
   "cell_type": "code",
   "execution_count": 2,
   "metadata": {},
   "outputs": [
    {
     "name": "stdout",
     "output_type": "stream",
     "text": [
      "Training Step: 41339  | total loss: \u001b[1m\u001b[32m0.02679\u001b[0m\u001b[0m | time: 3.408s\n",
      "| SGD | epoch: 260 | loss: 0.02679 - acc: 0.9907 -- iter: 20224/20250\n",
      "Training Step: 41340  | total loss: \u001b[1m\u001b[32m0.02629\u001b[0m\u001b[0m | time: 4.432s\n",
      "| SGD | epoch: 260 | loss: 0.02629 - acc: 0.9908 | val_loss: 0.48275 - val_acc: 0.8613 -- iter: 20250/20250\n",
      "--\n"
     ]
    }
   ],
   "source": [
    "from movie_review_senti_recog import MovieReviewSentiRecog \n",
    "\n",
    "mr_senti_recog = MovieReviewSentiRecog(mrd, layer_sizes=[256, 128, 64, 32])\n",
    "mr_senti_recog.train(n_epoch=270)"
   ]
  },
  {
   "cell_type": "code",
   "execution_count": null,
   "metadata": {},
   "outputs": [],
   "source": [
    "accuracies = mr_senti_recog.accuracies"
   ]
  },
  {
   "cell_type": "code",
   "execution_count": null,
   "metadata": {},
   "outputs": [],
   "source": [
    "for idx, acc in enumerate(accuracies):\n",
    "    if acc >= 0.99:\n",
    "        epoch = idx\n",
    "        break\n",
    "        \n",
    "print(epoch)"
   ]
  },
  {
   "cell_type": "code",
   "execution_count": null,
   "metadata": {},
   "outputs": [],
   "source": [
    "accuracies[262]"
   ]
  },
  {
   "cell_type": "markdown",
   "metadata": {},
   "source": [
    "Ansel Elgort is an empty vessel, good looking but stiff and emotionless, which fits his casting in The Goldfinch quite well.\n",
    "This handsome drama, adapted from Donna Tartt's 2013 Pulitzer Prize winner, fumbles around for a long time before determining it has nothing much to say. It misses the mark so badly that it’s unclear which target it was even aiming at in the first place. The story follows Theo Decker — played as a boy by Oakes Fegley and as an adult by Elgort — who was in New York’s Metropolitan Museum of Art when his mother was killed in a terrorist bombing.Young Theo goes off to live with Samantha Barbour (Nicole Kidman) and her wealthy, upper crust New York family, who take Theo in as their own and give him a home. When Theo’s deadbeat father (Luke Wilson) re-enters the picture, he drags Theo to the outskirts of Las Vegas where he lives in an abandoned suburb with his girlfriend, Xandra (Sarah Paulson, making the most of a small role). So does that make The Goldfinch a custody tale? Er, sort of? But there’s also a side story involving Jeffrey Wright as a restorer of antique furniture, a love story between Theo and his childhood crush, and the tale of Theo’s friendship with a Russian goth (played as a youth by Stranger Things’ Finn Wolfhard) who gets him hooked on snorting drugs. Oh, and there’s also the small matter of a priceless work of art, Carel Fabritius’ The Goldfinch, which finds its way into Theo’s possession. Director John Crowley (Brooklyn) shuffles the story between the past and present with little feel for storyline, continuity or character, and each member of the cast seems to be acting in a separate movie. (The Luke Wilson section is the most inept, but strangely it's the most enjoyable.) For a work inspired by a classic painting, this dense mishmash of genres and styles is as lifeless as a photocopy."
   ]
  },
  {
   "cell_type": "code",
   "execution_count": 7,
   "metadata": {},
   "outputs": [
    {
     "name": "stdout",
     "output_type": "stream",
     "text": [
      "Positive\n",
      "['ansel', 'elgort', 'vessel', ',', 'emotionless', 'goldfinch', '.this', \"tartt's\", '2013', 'pulitzer', 'fumbles', 'determining', 'it’s', 'decker', '—', 'oakes', 'fegley', 'york’s', 'metropolitan', 'hismother', 'bombing.young', 'barbour', '(', ')', 'wealthy,', 'crust', 'theo’s', 'deadbeat', 're-enters', 'dragstheo', 'outskirts', 'suburb', 'xandra', 'paulson', '?', 'there’s', 'restorer', 'antique', 'goth', 'things’', 'finn', 'wolfhard', 'snorting', 'carel', 'fabritius’', 'crowley', '(brooklyn)', 'shuffles', '(the', \"it's\", 'mishmash', 'photocopy']\n"
     ]
    }
   ],
   "source": [
    "the_goldfinch_review = \"test\"\n",
    "\n",
    "review = r\"Ansel Elgort is an empty vessel , good looking but stiff and emotionless , \" \\\n",
    "            + \"which fits his casting in The Goldfinch quite well .\" \\\n",
    "            + \"This handsome drama , adapted from Donna Tartt's 2013 Pulitzer Prize winner , \"\\\n",
    "            + \"fumbles around for a long time before determining it has nothing much to say . \"\\\n",
    "            + \"It misses the mark so badly that it’s unclear which target it was even aiming \"\\\n",
    "            + \"at in the first place . The story follows Theo Decker — played as a boy by Oakes Fegley \"\\\n",
    "            + \"and as an adult by Elgort — who was in New York’s Metropolitan Museum of Art when his\"\\\n",
    "            + \"mother was killed in a terrorist bombing.Young Theo goes off to live with Samantha Barbour \"\\\n",
    "            + \"( Nicole Kidman ) and her wealthy, upper crust New York family , who take Theo in as their own \"\\\n",
    "            + \"and give him a home . When Theo’s deadbeat father ( Luke Wilson ) re-enters the picture , he drags\"\\\n",
    "            + \"Theo to the outskirts of Las Vegas where he lives in an abandoned suburb with his girlfriend , \"\\\n",
    "            + \"Xandra ( Sarah Paulson , making the most of a small role ) . So does that make The Goldfinch a custody \"\\\n",
    "            + \"tale ? Er , sort of ? But there’s also a side story involving Jeffrey Wright as a restorer of antique \"\\\n",
    "            + \"furniture , a love story between Theo and his childhood crush , and the tale of Theo’s friendship with \"\\\n",
    "            + \"a Russian goth ( played as a youth by Stranger Things’ Finn Wolfhard ) who gets him hooked on snorting \"\\\n",
    "            + \"drugs . Oh , and there’s also the small matter of a priceless work of art , Carel Fabritius’ The Goldfinch , \"\\\n",
    "            + \"which finds its way into Theo’s possession . Director John Crowley (Brooklyn) shuffles the story between \"\\\n",
    "            + \"the past and present with little feel for storyline , continuity or character , and each member of the \"\\\n",
    "            + \"cast seems to be acting in a separate movie . (The Luke Wilson section is the most inept , but strangely \"\\\n",
    "            + \"it's the most enjoyable . ) For a work inspired by a classic painting , this dense mishmash of genres and \"\\\n",
    "            + \"styles is as lifeless as a photocopy .\"\n",
    "sentiment, unknown_words = mr_senti_recog.sentiment(review.lower())\n",
    "print (sentiment)\n",
    "print (unknown_words[:100])\n"
   ]
  },
  {
   "cell_type": "code",
   "execution_count": null,
   "metadata": {},
   "outputs": [],
   "source": [
    "import numpy as np\n",
    "\n",
    "def X (a):\n",
    "    \n",
    "    if a:\n",
    "        return [1]\n",
    "    else:\n",
    "        return np.array([2, 3]), [3]\n",
    "    \n",
    "X(False)"
   ]
  },
  {
   "cell_type": "code",
   "execution_count": null,
   "metadata": {},
   "outputs": [],
   "source": [
    "print (mr_senti_recog.sentiment(review.lower(), list_unknown_words=False))\n"
   ]
  },
  {
   "cell_type": "code",
   "execution_count": null,
   "metadata": {},
   "outputs": [],
   "source": []
  }
 ],
 "metadata": {
  "kernelspec": {
   "display_name": "Python 3",
   "language": "python",
   "name": "python3"
  },
  "language_info": {
   "codemirror_mode": {
    "name": "ipython",
    "version": 3
   },
   "file_extension": ".py",
   "mimetype": "text/x-python",
   "name": "python",
   "nbconvert_exporter": "python",
   "pygments_lexer": "ipython3",
   "version": "3.6.7"
  }
 },
 "nbformat": 4,
 "nbformat_minor": 2
}
