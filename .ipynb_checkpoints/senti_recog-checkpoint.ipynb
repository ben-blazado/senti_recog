{
 "cells": [
  {
   "cell_type": "code",
   "execution_count": 1,
   "metadata": {},
   "outputs": [],
   "source": [
    "%load_ext autoreload\n",
    "%autoreload 2\n",
    "\n",
    "import matplotlib.pyplot as plt\n",
    "%matplotlib inline\n",
    "\n",
    "#--- plot accuracy of neural network training\n",
    "def plot_training_history(accuracies):\n",
    "    _, ax = plt.subplots()\n",
    "    ax.set(xlabel='epoch', ylabel='accuracy', title='Training History')\n",
    "    ax.plot([i for i in range(len(accuracies))], accuracies)\n",
    "    plt.show()\n",
    "    \n",
    "    return"
   ]
  },
  {
   "cell_type": "code",
   "execution_count": 2,
   "metadata": {},
   "outputs": [
    {
     "name": "stdout",
     "output_type": "stream",
     "text": [
      "curses is not supported on this machine (please install/reinstall curses for an optimal experience)\n",
      "Scipy not supported!\n"
     ]
    }
   ],
   "source": [
    "#--- create the datasets of the movie reviews and corresponding sentiments\n",
    "from movie_review_datasets import MovieReviewDatasets \n",
    "\n",
    "mr_datasets = MovieReviewDatasets()"
   ]
  },
  {
   "cell_type": "code",
   "execution_count": 4,
   "metadata": {},
   "outputs": [
    {
     "name": "stdout",
     "output_type": "stream",
     "text": [
      "WARNING:tensorflow:From c:\\programdata\\anaconda3\\envs\\senti_recog\\lib\\site-packages\\tflearn\\objectives.py:66: calling reduce_sum (from tensorflow.python.ops.math_ops) with keep_dims is deprecated and will be removed in a future version.\n",
      "Instructions for updating:\n",
      "keep_dims is deprecated, use keepdims instead\n"
     ]
    }
   ],
   "source": [
    "#--- create neural network that recognizes the sentiment of a movie review\n",
    "\n",
    "from movie_review_senti_recog import MovieReviewSentiRecog \n",
    "\n",
    "mr_senti_recog_NN = MovieReviewSentiRecog(mr_datasets, layer_sizes=[256, 128, 64, 32])"
   ]
  },
  {
   "cell_type": "code",
   "execution_count": 5,
   "metadata": {},
   "outputs": [
    {
     "name": "stdout",
     "output_type": "stream",
     "text": [
      "Training Step: 16535  | total loss: \u001b[1m\u001b[32m0.24351\u001b[0m\u001b[0m | time: 3.377s\n",
      "| SGD | epoch: 104 | loss: 0.24351 - acc: 0.9097 -- iter: 20224/20250\n",
      "Training Step: 16536  | total loss: \u001b[1m\u001b[32m0.23396\u001b[0m\u001b[0m | time: 4.399s\n",
      "| SGD | epoch: 104 | loss: 0.23396 - acc: 0.9156 | val_loss: 0.34858 - val_acc: 0.8658 -- iter: 20250/20250\n",
      "--\n"
     ]
    },
    {
     "data": {
      "image/png": "[encoded data removed]",
      "text/plain": [
       "<Figure size 432x288 with 1 Axes>"
      ]
     },
     "metadata": {
      "needs_background": "light"
     },
     "output_type": "display_data"
    },
    {
     "name": "stdout",
     "output_type": "stream",
     "text": [
      "\n",
      "Testing Accuracy: 85.7%\n"
     ]
    }
   ],
   "source": [
    "#--- train the neural network, display accuracy \n",
    "\n",
    "mr_senti_recog_NN.train(n_epoch=270, exit_acc=0.90)\n",
    "test_accuracy = mr_senti_recog_NN.test()\n",
    "\n",
    "plot_training_history (mr_senti_recog_NN.accuracies)\n",
    "print (\"\\nTesting Accuracy: {:.1%}\".format(test_accuracy))\n"
   ]
  },
  {
   "cell_type": "code",
   "execution_count": 44,
   "metadata": {},
   "outputs": [
    {
     "name": "stdout",
     "output_type": "stream",
     "text": [
      "\n",
      "Review: 'It's amazing anyone could be talented enough to make something this spectacularly awful! There is nothing good in this film and is bad in all respects!!!'\n",
      "\n",
      "The neural network believes the review appears to have a ***NEGATIVE*** sentiment.\n",
      "The neural network CORRECTLY RECOGNIZED the sentiment of the review!\n",
      "---\n",
      "\n",
      "Review: 'I liked this movie alot! It was thoroughly entertaining!There a lot of funny comedic action in this film and it was so exciting!!!'\n",
      "\n",
      "The neural network believes the review appears to have a ***POSITIVE*** sentiment.\n",
      "The neural network CORRECTLY RECOGNIZED the sentiment of the review!\n",
      "---\n",
      "\n",
      "Review: 'I liked this movie alot! It was thoroughly entertaining!It was not bad. This redeems the bad storyline as the first movie as quite awful!!!Could have been worse but it turned out to be not too shabby!'\n",
      "\n",
      "The neural network believes the review appears to have a ***NEGATIVE*** sentiment.\n",
      "The neural network DID NOT correctly recognized the sentiment of the review.\n",
      "---\n"
     ]
    }
   ],
   "source": [
    "#--- submit reviews to see of the neural network can recognize the sentiment\n",
    "\n",
    "reviews = []\n",
    "\n",
    "#--- add an obviously negative review\n",
    "review           = \"It's amazing anyone could be talented enough to make something this spectacularly awful! \" \\\n",
    "                     + \"There is nothing good in this film and is bad in all respects!!!\"\n",
    "actual_sentiment = \"Negative\"\n",
    "reviews.append ((review, actual_sentiment))\n",
    "\n",
    "#--- add an obviosuly positive review\n",
    "review = \"I liked this movie alot! It was thoroughly entertaining!\" \\\n",
    "        + \"There a lot of funny comedic action in this film and it was so exciting!!!\"\n",
    "actual_sentiment = \"Positive\"\n",
    "reviews.append ((review, actual_sentiment))\n",
    "\n",
    "#--- add a review that uses negatives which should fool the neural network\n",
    "review = \"I liked this movie alot! It was thoroughly entertaining!\" \\\n",
    "        + \"It was not bad. This redeems the bad storyline as the first movie as quite awful!!!\" \\\n",
    "        + \"Could have been worse but it turned out to be not too shabby!\"\n",
    "actual_sentiment = \"Positive\"\n",
    "reviews.append ((review, actual_sentiment))\n",
    "\n",
    "\n",
    "#--- go through reviews and see if the neural network can recognize the sentiments\n",
    "for review, actual_sentiment in reviews:\n",
    "\n",
    "    recognized_sentiment = mr_senti_recog_NN.sentiment(review.lower())\n",
    "\n",
    "    print (\"\\nReview: '{}'\".format(review))\n",
    "    print (\"\\nThe neural network believes the review appears to have a ***{}*** sentiment.\".format(recognized_sentiment.upper()))\n",
    "    \n",
    "    if recognized_sentiment == actual_sentiment:\n",
    "        print (\"The neural network CORRECTLY RECOGNIZED the sentiment of the review!\")\n",
    "    else:\n",
    "        print (\"The neural network DID NOT correctly recognized the sentiment of the review.\")\n",
    "    print(\"---\")\n"
   ]
  }
 ],
 "metadata": {
  "kernelspec": {
   "display_name": "Python 3",
   "language": "python",
   "name": "python3"
  },
  "language_info": {
   "codemirror_mode": {
    "name": "ipython",
    "version": 3
   },
   "file_extension": ".py",
   "mimetype": "text/x-python",
   "name": "python",
   "nbconvert_exporter": "python",
   "pygments_lexer": "ipython3",
   "version": "3.6.7"
  }
 },
 "nbformat": 4,
 "nbformat_minor": 2
}
