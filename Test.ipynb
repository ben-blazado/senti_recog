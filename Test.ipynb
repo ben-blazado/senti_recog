{
 "cells": [
  {
   "cell_type": "code",
   "execution_count": 1,
   "metadata": {},
   "outputs": [
    {
     "name": "stdout",
     "output_type": "stream",
     "text": [
      "curses is not supported on this machine (please install/reinstall curses for an optimal experience)\n",
      "Scipy not supported!\n"
     ]
    }
   ],
   "source": [
    "import warnings\n",
    "warnings.simplefilter(action='ignore', category=FutureWarning)\n",
    "\n",
    "import pandas as pd\n",
    "import numpy as np\n",
    "import tflearn\n",
    "from tflearn.data_utils import to_categorical"
   ]
  },
  {
   "cell_type": "code",
   "execution_count": 2,
   "metadata": {},
   "outputs": [],
   "source": [
    "df_reviews = pd.read_csv('reviews.txt', header=None)\n",
    "df_labels = pd.read_csv('labels.txt', header=None)\n"
   ]
  },
  {
   "cell_type": "code",
   "execution_count": 3,
   "metadata": {},
   "outputs": [],
   "source": [
    "#--- count how often each word is occurs\n",
    "from collections import Counter\n",
    "\n",
    "words = []\n",
    "for row_num, review in df_reviews.itertuples():\n",
    "    for word in review.split(' '):\n",
    "        words.append(word)\n",
    "            \n",
    "word_count = Counter(words)"
   ]
  },
  {
   "cell_type": "code",
   "execution_count": 4,
   "metadata": {},
   "outputs": [
    {
     "name": "stdout",
     "output_type": "stream",
     "text": [
      "7459318\n",
      "bromwell\n",
      "2161\n",
      "74074\n"
     ]
    }
   ],
   "source": [
    "print (len(words))\n",
    "print (words[0])\n",
    "print (word_count['high'])\n",
    "print (len(word_count))  #--- should be 74074"
   ]
  },
  {
   "cell_type": "code",
   "execution_count": 5,
   "metadata": {},
   "outputs": [],
   "source": [
    "#--- get top 10000 frequest words\n",
    "frequent_words = sorted(word_count, key=word_count.get, reverse=True)[:10000]"
   ]
  },
  {
   "cell_type": "code",
   "execution_count": 6,
   "metadata": {},
   "outputs": [
    {
     "name": "stdout",
     "output_type": "stream",
     "text": [
      "['', 'the', '.', 'and', 'a', 'of', 'to', 'is', 'br', 'it', 'in', 'i', 'this', 'that', 's', 'was', 'as', 'for', 'with', 'movie', 'but', 'film', 'you', 'on', 't', 'not', 'he', 'are', 'his', 'have', 'be', 'one', 'all', 'at', 'they', 'by', 'an', 'who', 'so', 'from', 'like', 'there', 'her', 'or', 'just', 'about', 'out', 'if', 'has', 'what', 'some', 'good', 'can', 'more', 'she', 'when', 'very', 'up', 'time', 'no']\n"
     ]
    }
   ],
   "source": [
    "print(frequent_words[:60])"
   ]
  },
  {
   "cell_type": "code",
   "execution_count": 7,
   "metadata": {},
   "outputs": [
    {
     "name": "stdout",
     "output_type": "stream",
     "text": [
      "word:'the', count:336713\n"
     ]
    }
   ],
   "source": [
    "word_idx = 1\n",
    "frequent_word = frequent_words[word_idx]\n",
    "count = word_count[frequent_word]\n",
    "print (\"word:\\'{}\\', count:{}\".format(frequent_word, count))"
   ]
  },
  {
   "cell_type": "code",
   "execution_count": 8,
   "metadata": {},
   "outputs": [],
   "source": [
    "word_to_idx = {}\n",
    "for idx, word in enumerate(frequent_words):\n",
    "    word_to_idx[word] = idx\n",
    "    \n",
    "def idx(word):\n",
    "    try:\n",
    "        return word_to_idx[word]\n",
    "    except:\n",
    "        return -1\n",
    "        "
   ]
  },
  {
   "cell_type": "code",
   "execution_count": 9,
   "metadata": {},
   "outputs": [
    {
     "data": {
      "text/plain": [
       "-1"
      ]
     },
     "execution_count": 9,
     "metadata": {},
     "output_type": "execute_result"
    }
   ],
   "source": [
    "idx('ben blazado')"
   ]
  },
  {
   "cell_type": "code",
   "execution_count": 10,
   "metadata": {},
   "outputs": [],
   "source": [
    "def text_to_vector(text):\n",
    "    \n",
    "    text_vector = np.zeros(len(frequent_words))\n",
    "    words = text.split(' ')\n",
    "    for word in words:\n",
    "        try:\n",
    "            idx = word_to_idx[word]\n",
    "            text_vector[idx] += 1\n",
    "        except:\n",
    "            next\n",
    "        \n",
    "    return text_vector"
   ]
  },
  {
   "cell_type": "code",
   "execution_count": 11,
   "metadata": {},
   "outputs": [
    {
     "name": "stdout",
     "output_type": "stream",
     "text": [
      "[ True  True  True  True  True  True  True  True  True  True  True  True\n",
      "  True  True  True  True  True  True  True  True  True  True  True  True\n",
      "  True  True  True  True  True  True  True  True  True  True  True  True\n",
      "  True  True  True  True  True  True  True  True  True  True  True  True\n",
      "  True  True  True  True  True  True  True  True  True  True  True  True\n",
      "  True  True  True  True  True]\n"
     ]
    }
   ],
   "source": [
    "test = [0, 1, 0, 0, 2, 0, 1, 1, 0, 0, 0, 0, 0, 0, 0, 0, 0, 2, 0, 1, 0, 0, 0,\n",
    "       0, 0, 0, 0, 0, 0, 0, 0, 0, 0, 0, 0, 0, 0, 0, 1, 0, 0, 0, 0, 0, 0, 0,\n",
    "       0, 0, 1, 0, 0, 0, 0, 0, 1, 0, 0, 0, 1, 1, 0, 0, 0, 0, 0]\n",
    "\n",
    "print (text_to_vector('The tea is for a party to celebrate '\n",
    "               'the movie so she has no time for a cake')[:len(test)] == test)\n",
    "       \n"
   ]
  },
  {
   "cell_type": "code",
   "execution_count": 12,
   "metadata": {},
   "outputs": [
    {
     "data": {
      "text/plain": [
       "25000"
      ]
     },
     "execution_count": 12,
     "metadata": {},
     "output_type": "execute_result"
    }
   ],
   "source": [
    "len(df_reviews.index)"
   ]
  },
  {
   "cell_type": "code",
   "execution_count": 13,
   "metadata": {},
   "outputs": [],
   "source": [
    "shape = (df_reviews.shape[0], len(frequent_words))\n",
    "review_vectors = np.zeros(shape)\n",
    "for row_num, review in df_reviews.itertuples():\n",
    "    review_vectors[row_num] = text_to_vector(review)"
   ]
  },
  {
   "cell_type": "code",
   "execution_count": 14,
   "metadata": {},
   "outputs": [
    {
     "name": "stdout",
     "output_type": "stream",
     "text": [
      "25000\n"
     ]
    },
    {
     "data": {
      "text/plain": [
       "array([[ 18.,   9.,  27.,   1.,   4.,   4.,   6.,   4.,   0.,   2.,   2.,\n",
       "          5.,   0.,   4.,   1.,   0.,   2.,   0.,   0.,   0.],\n",
       "       [  5.,   4.,   8.,   1.,   7.,   3.,   1.,   2.,   0.,   4.,   0.,\n",
       "          0.,   0.,   1.,   2.,   0.,   0.,   1.,   3.,   0.],\n",
       "       [ 78.,  24.,  12.,   4.,  17.,   5.,  20.,   2.,   8.,   8.,   2.,\n",
       "          1.,   1.,   2.,   8.,   0.,   5.,   5.,   4.,   0.],\n",
       "       [167.,  53.,  23.,   0.,  22.,  23.,  13.,  14.,   8.,  10.,   8.,\n",
       "         12.,   9.,   4.,  11.,   2.,  11.,   5.,  11.,   0.],\n",
       "       [ 19.,  10.,  11.,   4.,   6.,   2.,   2.,   5.,   0.,   1.,   2.,\n",
       "          3.,   1.,   0.,   0.,   0.,   3.,   1.,   0.,   1.]])"
      ]
     },
     "execution_count": 14,
     "metadata": {},
     "output_type": "execute_result"
    }
   ],
   "source": [
    "print (len(review_vectors))\n",
    "review_vectors[:5, :20]"
   ]
  },
  {
   "cell_type": "code",
   "execution_count": 52,
   "metadata": {},
   "outputs": [],
   "source": [
    "labels = np.zeros(df_reviews.shape[0])\n",
    "for row_num, row_data in df_labels.itertuples():\n",
    "    if row_data == 'positive':\n",
    "        labels[row_num] = 1\n",
    "    else:\n",
    "        labels[row_num] = 0\n",
    "        \n",
    "indices = np.arange(df_reviews.shape[0])\n",
    "np.random.shuffle(indices)\n",
    "test_fraction = 0.9\n",
    "split_index = int(num_records * test_fraction)\n",
    "\n",
    "train_indices = indices[:split_index]\n",
    "test_indices = indices[split_index:]\n",
    "\n"
   ]
  },
  {
   "cell_type": "code",
   "execution_count": 54,
   "metadata": {},
   "outputs": [
    {
     "data": {
      "text/plain": [
       "array([1., 0., 1., 0., 1., 0., 1., 0., 1., 0.])"
      ]
     },
     "execution_count": 54,
     "metadata": {},
     "output_type": "execute_result"
    }
   ],
   "source": [
    "labels[:10]"
   ]
  },
  {
   "cell_type": "code",
   "execution_count": 34,
   "metadata": {},
   "outputs": [
    {
     "data": {
      "text/plain": [
       "array([['positive'],\n",
       "       ['negative'],\n",
       "       ['positive'],\n",
       "       ['negative'],\n",
       "       ['positive'],\n",
       "       ['negative'],\n",
       "       ['positive'],\n",
       "       ['negative'],\n",
       "       ['positive'],\n",
       "       ['negative']], dtype=object)"
      ]
     },
     "execution_count": 34,
     "metadata": {},
     "output_type": "execute_result"
    }
   ],
   "source": [
    "df_labels.values[:10]"
   ]
  },
  {
   "cell_type": "code",
   "execution_count": 58,
   "metadata": {},
   "outputs": [],
   "source": [
    "trainX = review_vectors[train_indices]\n",
    "trainY = to_categorical(labels[train_indices], 2)\n",
    "\n",
    "testX = review_vectors[test_indices]\n",
    "testY = to_categorical(labels[test_indices], 2)"
   ]
  },
  {
   "cell_type": "code",
   "execution_count": 63,
   "metadata": {},
   "outputs": [
    {
     "data": {
      "text/plain": [
       "array([[ 9.,  0.,  2., ...,  0.,  0.,  0.],\n",
       "       [72., 20., 12., ...,  0.,  0.,  0.],\n",
       "       [80., 16., 10., ...,  0.,  0.,  0.],\n",
       "       ...,\n",
       "       [ 6.,  3.,  9., ...,  0.,  0.,  0.],\n",
       "       [38., 25., 54., ...,  0.,  0.,  0.],\n",
       "       [82., 36., 22., ...,  0.,  0.,  0.]])"
      ]
     },
     "execution_count": 63,
     "metadata": {},
     "output_type": "execute_result"
    }
   ],
   "source": [
    "trainX[:10]"
   ]
  },
  {
   "cell_type": "code",
   "execution_count": 64,
   "metadata": {},
   "outputs": [
    {
     "data": {
      "text/plain": [
       "array([[0., 1.],\n",
       "       [1., 0.],\n",
       "       [0., 1.],\n",
       "       [0., 1.],\n",
       "       [0., 1.],\n",
       "       [0., 1.],\n",
       "       [1., 0.],\n",
       "       [1., 0.],\n",
       "       [0., 1.],\n",
       "       [0., 1.]])"
      ]
     },
     "execution_count": 64,
     "metadata": {},
     "output_type": "execute_result"
    }
   ],
   "source": [
    "trainY[:10]"
   ]
  },
  {
   "cell_type": "code",
   "execution_count": 83,
   "metadata": {},
   "outputs": [],
   "source": [
    "import tensorflow as tf\n",
    "tf.reset_default_graph()\n",
    "net = tflearn.input_data([None, 10000])\n",
    "net = tflearn.fully_connected(net, 256, activation='LeakyReLU')\n",
    "net = tflearn.fully_connected(net, 32, activation='LeakyReLU')\n",
    "net = tflearn.fully_connected(net, 2, activation='softmax')"
   ]
  },
  {
   "cell_type": "code",
   "execution_count": 84,
   "metadata": {},
   "outputs": [],
   "source": [
    "net = tflearn.regression(net, optimizer='sgd', learning_rate=0.1, loss='categorical_crossentropy')\n",
    "model = tflearn.DNN(net)"
   ]
  },
  {
   "cell_type": "code",
   "execution_count": 85,
   "metadata": {},
   "outputs": [
    {
     "name": "stdout",
     "output_type": "stream",
     "text": [
      "Training Step: 15899  | total loss: \u001b[1m\u001b[32m0.27467\u001b[0m\u001b[0m | time: 3.369s\n",
      "| SGD | epoch: 100 | loss: 0.27467 - acc: 0.8731 -- iter: 20224/20250\n",
      "Training Step: 15900  | total loss: \u001b[1m\u001b[32m0.26941\u001b[0m\u001b[0m | time: 4.392s\n",
      "| SGD | epoch: 100 | loss: 0.26941 - acc: 0.8796 | val_loss: 0.35141 - val_acc: 0.8578 -- iter: 20250/20250\n",
      "--\n"
     ]
    }
   ],
   "source": [
    "model.fit (trainX, trainY, validation_set=0.1, show_metric=True, batch_size=128, n_epoch=100)"
   ]
  },
  {
   "cell_type": "code",
   "execution_count": null,
   "metadata": {},
   "outputs": [],
   "source": [
    "--------------------------------------------"
   ]
  },
  {
   "cell_type": "code",
   "execution_count": null,
   "metadata": {},
   "outputs": [],
   "source": [
    "from collections import Counter\n",
    "c = Counter(words)"
   ]
  },
  {
   "cell_type": "code",
   "execution_count": null,
   "metadata": {},
   "outputs": [],
   "source": [
    "c['bromwell']\n",
    "    "
   ]
  },
  {
   "cell_type": "code",
   "execution_count": null,
   "metadata": {},
   "outputs": [],
   "source": [
    "words = [word for word in [review.split() for review in reviews]]\n",
    "for review in reviews:\n",
    "    for word in review.split():\n",
    "        words += word\n",
    "        \n",
    "words = [word for word in [review.split() for review in [arr_review_value[0] for arr_review_value in "
   ]
  },
  {
   "cell_type": "code",
   "execution_count": null,
   "metadata": {},
   "outputs": [],
   "source": [
    "i = 0\n",
    "for row in df_reviews.itertuples():\n",
    "    print(row)\n",
    "    print(\"---\")\n",
    "    i += 1\n",
    "    if i > 3:\n",
    "        break"
   ]
  },
  {
   "cell_type": "code",
   "execution_count": null,
   "metadata": {},
   "outputs": [],
   "source": [
    "from collections import Counter\n",
    "\n",
    "r = reviews.stack().values"
   ]
  },
  {
   "cell_type": "code",
   "execution_count": null,
   "metadata": {},
   "outputs": [],
   "source": [
    "r = reviews.values\n",
    "r[1][0].split()"
   ]
  },
  {
   "cell_type": "code",
   "execution_count": null,
   "metadata": {},
   "outputs": [],
   "source": [
    "reviews = [review for review in reviews.values]"
   ]
  },
  {
   "cell_type": "code",
   "execution_count": null,
   "metadata": {},
   "outputs": [],
   "source": [
    "review[1]"
   ]
  },
  {
   "cell_type": "code",
   "execution_count": null,
   "metadata": {},
   "outputs": [],
   "source": [
    "df_review_values = [df_review_values for df_review_values in df_reviews.values[0]]"
   ]
  },
  {
   "cell_type": "code",
   "execution_count": null,
   "metadata": {},
   "outputs": [],
   "source": [
    "words = [words for review in reviews [for df_reviews in df_reviews.values[0]]\n",
    "len(words)"
   ]
  },
  {
   "cell_type": "code",
   "execution_count": null,
   "metadata": {},
   "outputs": [],
   "source": [
    "len(b)"
   ]
  },
  {
   "cell_type": "code",
   "execution_count": null,
   "metadata": {},
   "outputs": [],
   "source": [
    "# reviews = [review for review in df_reviews.values[0]]\n",
    "#reviews[0]\n",
    "#for review in reviews:\n",
    "#    for word in review.split()\n",
    "    \n",
    "words = [word for word in [review.split() for review in [df_review_value[0] for df_review_value in df_reviews.values]]]"
   ]
  },
  {
   "cell_type": "code",
   "execution_count": null,
   "metadata": {},
   "outputs": [],
   "source": [
    "words[1]"
   ]
  },
  {
   "cell_type": "code",
   "execution_count": null,
   "metadata": {},
   "outputs": [],
   "source": [
    "words = [word for word in [review in df_reviews.values] ]\n"
   ]
  },
  {
   "cell_type": "code",
   "execution_count": null,
   "metadata": {},
   "outputs": [],
   "source": [
    "a = \"the quick brown fox jumps of the lazy dog\"\n",
    "words = [word for word in a.split()]\n",
    "print (words)"
   ]
  },
  {
   "cell_type": "code",
   "execution_count": null,
   "metadata": {},
   "outputs": [],
   "source": [
    "words = a.split()\n",
    "print (words)"
   ]
  },
  {
   "cell_type": "code",
   "execution_count": null,
   "metadata": {},
   "outputs": [],
   "source": [
    "a"
   ]
  }
 ],
 "metadata": {
  "kernelspec": {
   "display_name": "Python 3",
   "language": "python",
   "name": "python3"
  },
  "language_info": {
   "codemirror_mode": {
    "name": "ipython",
    "version": 3
   },
   "file_extension": ".py",
   "mimetype": "text/x-python",
   "name": "python",
   "nbconvert_exporter": "python",
   "pygments_lexer": "ipython3",
   "version": "3.6.7"
  }
 },
 "nbformat": 4,
 "nbformat_minor": 2
}
