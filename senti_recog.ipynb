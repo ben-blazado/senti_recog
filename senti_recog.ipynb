{
 "cells": [
  {
   "cell_type": "code",
   "execution_count": 1,
   "metadata": {},
   "outputs": [
    {
     "name": "stdout",
     "output_type": "stream",
     "text": [
      "curses is not supported on this machine (please install/reinstall curses for an optimal experience)\n",
      "Scipy not supported!\n"
     ]
    }
   ],
   "source": [
    "%load_ext autoreload\n",
    "%autoreload 2\n",
    "\n",
    "from movie_review_datasets import MovieReviewDatasets \n",
    "\n",
    "mrd = MovieReviewDatasets()\n"
   ]
  },
  {
   "cell_type": "code",
   "execution_count": 2,
   "metadata": {},
   "outputs": [
    {
     "name": "stdout",
     "output_type": "stream",
     "text": [
      "Training Step: 15263  | total loss: \u001b[1m\u001b[32m0.24051\u001b[0m\u001b[0m | time: 3.378s\n",
      "| SGD | epoch: 096 | loss: 0.24051 - acc: 0.9043 -- iter: 20224/20250\n",
      "Training Step: 15264  | total loss: \u001b[1m\u001b[32m0.24500\u001b[0m\u001b[0m | time: 4.400s\n",
      "| SGD | epoch: 096 | loss: 0.24500 - acc: 0.9053 | val_loss: 0.34803 - val_acc: 0.8578 -- iter: 20250/20250\n",
      "--\n"
     ]
    }
   ],
   "source": [
    "from movie_review_senti_recog import MovieReviewSentiRecog \n",
    "\n",
    "mr_senti_recog = MovieReviewSentiRecog(mrd, layer_sizes=[256, 128, 64, 32])\n",
    "mr_senti_recog.train(n_epoch=270, exit_acc=0.90)"
   ]
  },
  {
   "cell_type": "code",
   "execution_count": 3,
   "metadata": {},
   "outputs": [
    {
     "name": "stdout",
     "output_type": "stream",
     "text": [
      "0.856\n"
     ]
    }
   ],
   "source": [
    "test_accuracy = mr_senti_recog.test()\n",
    "print (test_accuracy)"
   ]
  },
  {
   "cell_type": "code",
   "execution_count": 4,
   "metadata": {},
   "outputs": [
    {
     "name": "stdout",
     "output_type": "stream",
     "text": [
      "Negative\n"
     ]
    }
   ],
   "source": [
    "review = \"It's amazing anyone could be talented enough to make something this spectacularly awful\"\n",
    "\n",
    "sentiment = mr_senti_recog.sentiment(review.lower())\n",
    "print (sentiment)\n"
   ]
  }
 ],
 "metadata": {
  "kernelspec": {
   "display_name": "Python 3",
   "language": "python",
   "name": "python3"
  },
  "language_info": {
   "codemirror_mode": {
    "name": "ipython",
    "version": 3
   },
   "file_extension": ".py",
   "mimetype": "text/x-python",
   "name": "python",
   "nbconvert_exporter": "python",
   "pygments_lexer": "ipython3",
   "version": "3.6.7"
  }
 },
 "nbformat": 4,
 "nbformat_minor": 2
}
